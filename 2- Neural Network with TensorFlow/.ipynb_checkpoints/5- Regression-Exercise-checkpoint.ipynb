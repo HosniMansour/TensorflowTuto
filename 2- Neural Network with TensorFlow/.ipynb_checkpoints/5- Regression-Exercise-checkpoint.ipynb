{
 "cells": [
  {
   "cell_type": "markdown",
   "metadata": {},
   "source": [
    "## The Data"
   ]
  },
  {
   "cell_type": "markdown",
   "metadata": {},
   "source": [
    "** Import the cal_housing_clean.csv file with pandas. Separate it into a training (70%) and testing set(30%).**"
   ]
  },
  {
   "cell_type": "code",
   "execution_count": 56,
   "metadata": {
    "collapsed": true
   },
   "outputs": [],
   "source": [
    "import pandas as pd"
   ]
  },
  {
   "cell_type": "code",
   "execution_count": 57,
   "metadata": {
    "collapsed": true
   },
   "outputs": [],
   "source": [
    "data = pd.read_csv('Data/cal_housing_clean.csv')"
   ]
  },
  {
   "cell_type": "code",
   "execution_count": 58,
   "metadata": {},
   "outputs": [
    {
     "data": {
      "text/html": [
       "<div>\n",
       "<style>\n",
       "    .dataframe thead tr:only-child th {\n",
       "        text-align: right;\n",
       "    }\n",
       "\n",
       "    .dataframe thead th {\n",
       "        text-align: left;\n",
       "    }\n",
       "\n",
       "    .dataframe tbody tr th {\n",
       "        vertical-align: top;\n",
       "    }\n",
       "</style>\n",
       "<table border=\"1\" class=\"dataframe\">\n",
       "  <thead>\n",
       "    <tr style=\"text-align: right;\">\n",
       "      <th></th>\n",
       "      <th>housingMedianAge</th>\n",
       "      <th>totalRooms</th>\n",
       "      <th>totalBedrooms</th>\n",
       "      <th>population</th>\n",
       "      <th>households</th>\n",
       "      <th>medianIncome</th>\n",
       "      <th>medianHouseValue</th>\n",
       "    </tr>\n",
       "  </thead>\n",
       "  <tbody>\n",
       "    <tr>\n",
       "      <th>0</th>\n",
       "      <td>41.0</td>\n",
       "      <td>880.0</td>\n",
       "      <td>129.0</td>\n",
       "      <td>322.0</td>\n",
       "      <td>126.0</td>\n",
       "      <td>8.3252</td>\n",
       "      <td>452600.0</td>\n",
       "    </tr>\n",
       "    <tr>\n",
       "      <th>1</th>\n",
       "      <td>21.0</td>\n",
       "      <td>7099.0</td>\n",
       "      <td>1106.0</td>\n",
       "      <td>2401.0</td>\n",
       "      <td>1138.0</td>\n",
       "      <td>8.3014</td>\n",
       "      <td>358500.0</td>\n",
       "    </tr>\n",
       "    <tr>\n",
       "      <th>2</th>\n",
       "      <td>52.0</td>\n",
       "      <td>1467.0</td>\n",
       "      <td>190.0</td>\n",
       "      <td>496.0</td>\n",
       "      <td>177.0</td>\n",
       "      <td>7.2574</td>\n",
       "      <td>352100.0</td>\n",
       "    </tr>\n",
       "    <tr>\n",
       "      <th>3</th>\n",
       "      <td>52.0</td>\n",
       "      <td>1274.0</td>\n",
       "      <td>235.0</td>\n",
       "      <td>558.0</td>\n",
       "      <td>219.0</td>\n",
       "      <td>5.6431</td>\n",
       "      <td>341300.0</td>\n",
       "    </tr>\n",
       "    <tr>\n",
       "      <th>4</th>\n",
       "      <td>52.0</td>\n",
       "      <td>1627.0</td>\n",
       "      <td>280.0</td>\n",
       "      <td>565.0</td>\n",
       "      <td>259.0</td>\n",
       "      <td>3.8462</td>\n",
       "      <td>342200.0</td>\n",
       "    </tr>\n",
       "  </tbody>\n",
       "</table>\n",
       "</div>"
      ],
      "text/plain": [
       "   housingMedianAge  totalRooms  totalBedrooms  population  households  \\\n",
       "0              41.0       880.0          129.0       322.0       126.0   \n",
       "1              21.0      7099.0         1106.0      2401.0      1138.0   \n",
       "2              52.0      1467.0          190.0       496.0       177.0   \n",
       "3              52.0      1274.0          235.0       558.0       219.0   \n",
       "4              52.0      1627.0          280.0       565.0       259.0   \n",
       "\n",
       "   medianIncome  medianHouseValue  \n",
       "0        8.3252          452600.0  \n",
       "1        8.3014          358500.0  \n",
       "2        7.2574          352100.0  \n",
       "3        5.6431          341300.0  \n",
       "4        3.8462          342200.0  "
      ]
     },
     "execution_count": 58,
     "metadata": {},
     "output_type": "execute_result"
    }
   ],
   "source": [
    "data.head()"
   ]
  },
  {
   "cell_type": "code",
   "execution_count": 59,
   "metadata": {},
   "outputs": [
    {
     "data": {
      "text/html": [
       "<div>\n",
       "<style>\n",
       "    .dataframe thead tr:only-child th {\n",
       "        text-align: right;\n",
       "    }\n",
       "\n",
       "    .dataframe thead th {\n",
       "        text-align: left;\n",
       "    }\n",
       "\n",
       "    .dataframe tbody tr th {\n",
       "        vertical-align: top;\n",
       "    }\n",
       "</style>\n",
       "<table border=\"1\" class=\"dataframe\">\n",
       "  <thead>\n",
       "    <tr style=\"text-align: right;\">\n",
       "      <th></th>\n",
       "      <th>housingMedianAge</th>\n",
       "      <th>totalRooms</th>\n",
       "      <th>totalBedrooms</th>\n",
       "      <th>population</th>\n",
       "      <th>households</th>\n",
       "      <th>medianIncome</th>\n",
       "      <th>medianHouseValue</th>\n",
       "    </tr>\n",
       "  </thead>\n",
       "  <tbody>\n",
       "    <tr>\n",
       "      <th>count</th>\n",
       "      <td>20640.000000</td>\n",
       "      <td>20640.000000</td>\n",
       "      <td>20640.000000</td>\n",
       "      <td>20640.000000</td>\n",
       "      <td>20640.000000</td>\n",
       "      <td>20640.000000</td>\n",
       "      <td>20640.000000</td>\n",
       "    </tr>\n",
       "    <tr>\n",
       "      <th>mean</th>\n",
       "      <td>28.639486</td>\n",
       "      <td>2635.763081</td>\n",
       "      <td>537.898014</td>\n",
       "      <td>1425.476744</td>\n",
       "      <td>499.539680</td>\n",
       "      <td>3.870671</td>\n",
       "      <td>206855.816909</td>\n",
       "    </tr>\n",
       "    <tr>\n",
       "      <th>std</th>\n",
       "      <td>12.585558</td>\n",
       "      <td>2181.615252</td>\n",
       "      <td>421.247906</td>\n",
       "      <td>1132.462122</td>\n",
       "      <td>382.329753</td>\n",
       "      <td>1.899822</td>\n",
       "      <td>115395.615874</td>\n",
       "    </tr>\n",
       "    <tr>\n",
       "      <th>min</th>\n",
       "      <td>1.000000</td>\n",
       "      <td>2.000000</td>\n",
       "      <td>1.000000</td>\n",
       "      <td>3.000000</td>\n",
       "      <td>1.000000</td>\n",
       "      <td>0.499900</td>\n",
       "      <td>14999.000000</td>\n",
       "    </tr>\n",
       "    <tr>\n",
       "      <th>25%</th>\n",
       "      <td>18.000000</td>\n",
       "      <td>1447.750000</td>\n",
       "      <td>295.000000</td>\n",
       "      <td>787.000000</td>\n",
       "      <td>280.000000</td>\n",
       "      <td>2.563400</td>\n",
       "      <td>119600.000000</td>\n",
       "    </tr>\n",
       "    <tr>\n",
       "      <th>50%</th>\n",
       "      <td>29.000000</td>\n",
       "      <td>2127.000000</td>\n",
       "      <td>435.000000</td>\n",
       "      <td>1166.000000</td>\n",
       "      <td>409.000000</td>\n",
       "      <td>3.534800</td>\n",
       "      <td>179700.000000</td>\n",
       "    </tr>\n",
       "    <tr>\n",
       "      <th>75%</th>\n",
       "      <td>37.000000</td>\n",
       "      <td>3148.000000</td>\n",
       "      <td>647.000000</td>\n",
       "      <td>1725.000000</td>\n",
       "      <td>605.000000</td>\n",
       "      <td>4.743250</td>\n",
       "      <td>264725.000000</td>\n",
       "    </tr>\n",
       "    <tr>\n",
       "      <th>max</th>\n",
       "      <td>52.000000</td>\n",
       "      <td>39320.000000</td>\n",
       "      <td>6445.000000</td>\n",
       "      <td>35682.000000</td>\n",
       "      <td>6082.000000</td>\n",
       "      <td>15.000100</td>\n",
       "      <td>500001.000000</td>\n",
       "    </tr>\n",
       "  </tbody>\n",
       "</table>\n",
       "</div>"
      ],
      "text/plain": [
       "       housingMedianAge    totalRooms  totalBedrooms    population  \\\n",
       "count      20640.000000  20640.000000   20640.000000  20640.000000   \n",
       "mean          28.639486   2635.763081     537.898014   1425.476744   \n",
       "std           12.585558   2181.615252     421.247906   1132.462122   \n",
       "min            1.000000      2.000000       1.000000      3.000000   \n",
       "25%           18.000000   1447.750000     295.000000    787.000000   \n",
       "50%           29.000000   2127.000000     435.000000   1166.000000   \n",
       "75%           37.000000   3148.000000     647.000000   1725.000000   \n",
       "max           52.000000  39320.000000    6445.000000  35682.000000   \n",
       "\n",
       "         households  medianIncome  medianHouseValue  \n",
       "count  20640.000000  20640.000000      20640.000000  \n",
       "mean     499.539680      3.870671     206855.816909  \n",
       "std      382.329753      1.899822     115395.615874  \n",
       "min        1.000000      0.499900      14999.000000  \n",
       "25%      280.000000      2.563400     119600.000000  \n",
       "50%      409.000000      3.534800     179700.000000  \n",
       "75%      605.000000      4.743250     264725.000000  \n",
       "max     6082.000000     15.000100     500001.000000  "
      ]
     },
     "execution_count": 59,
     "metadata": {},
     "output_type": "execute_result"
    }
   ],
   "source": [
    "data.describe()"
   ]
  },
  {
   "cell_type": "code",
   "execution_count": 60,
   "metadata": {},
   "outputs": [
    {
     "data": {
      "text/plain": [
       "Index(['housingMedianAge', 'totalRooms', 'totalBedrooms', 'population',\n",
       "       'households', 'medianIncome', 'medianHouseValue'],\n",
       "      dtype='object')"
      ]
     },
     "execution_count": 60,
     "metadata": {},
     "output_type": "execute_result"
    }
   ],
   "source": [
    "data.columns"
   ]
  },
  {
   "cell_type": "code",
   "execution_count": 61,
   "metadata": {},
   "outputs": [],
   "source": [
    "x_cols = ['housingMedianAge', 'totalRooms', 'totalBedrooms', 'population','households', 'medianIncome']\n",
    "data_x = data[x_cols]\n",
    "data_y = data['medianHouseValue']"
   ]
  },
  {
   "cell_type": "code",
   "execution_count": 62,
   "metadata": {
    "scrolled": true
   },
   "outputs": [
    {
     "data": {
      "text/html": [
       "<div>\n",
       "<style>\n",
       "    .dataframe thead tr:only-child th {\n",
       "        text-align: right;\n",
       "    }\n",
       "\n",
       "    .dataframe thead th {\n",
       "        text-align: left;\n",
       "    }\n",
       "\n",
       "    .dataframe tbody tr th {\n",
       "        vertical-align: top;\n",
       "    }\n",
       "</style>\n",
       "<table border=\"1\" class=\"dataframe\">\n",
       "  <thead>\n",
       "    <tr style=\"text-align: right;\">\n",
       "      <th></th>\n",
       "      <th>housingMedianAge</th>\n",
       "      <th>totalRooms</th>\n",
       "      <th>totalBedrooms</th>\n",
       "      <th>population</th>\n",
       "      <th>households</th>\n",
       "      <th>medianIncome</th>\n",
       "    </tr>\n",
       "  </thead>\n",
       "  <tbody>\n",
       "    <tr>\n",
       "      <th>0</th>\n",
       "      <td>41.0</td>\n",
       "      <td>880.0</td>\n",
       "      <td>129.0</td>\n",
       "      <td>322.0</td>\n",
       "      <td>126.0</td>\n",
       "      <td>8.3252</td>\n",
       "    </tr>\n",
       "    <tr>\n",
       "      <th>1</th>\n",
       "      <td>21.0</td>\n",
       "      <td>7099.0</td>\n",
       "      <td>1106.0</td>\n",
       "      <td>2401.0</td>\n",
       "      <td>1138.0</td>\n",
       "      <td>8.3014</td>\n",
       "    </tr>\n",
       "    <tr>\n",
       "      <th>2</th>\n",
       "      <td>52.0</td>\n",
       "      <td>1467.0</td>\n",
       "      <td>190.0</td>\n",
       "      <td>496.0</td>\n",
       "      <td>177.0</td>\n",
       "      <td>7.2574</td>\n",
       "    </tr>\n",
       "    <tr>\n",
       "      <th>3</th>\n",
       "      <td>52.0</td>\n",
       "      <td>1274.0</td>\n",
       "      <td>235.0</td>\n",
       "      <td>558.0</td>\n",
       "      <td>219.0</td>\n",
       "      <td>5.6431</td>\n",
       "    </tr>\n",
       "    <tr>\n",
       "      <th>4</th>\n",
       "      <td>52.0</td>\n",
       "      <td>1627.0</td>\n",
       "      <td>280.0</td>\n",
       "      <td>565.0</td>\n",
       "      <td>259.0</td>\n",
       "      <td>3.8462</td>\n",
       "    </tr>\n",
       "  </tbody>\n",
       "</table>\n",
       "</div>"
      ],
      "text/plain": [
       "   housingMedianAge  totalRooms  totalBedrooms  population  households  \\\n",
       "0              41.0       880.0          129.0       322.0       126.0   \n",
       "1              21.0      7099.0         1106.0      2401.0      1138.0   \n",
       "2              52.0      1467.0          190.0       496.0       177.0   \n",
       "3              52.0      1274.0          235.0       558.0       219.0   \n",
       "4              52.0      1627.0          280.0       565.0       259.0   \n",
       "\n",
       "   medianIncome  \n",
       "0        8.3252  \n",
       "1        8.3014  \n",
       "2        7.2574  \n",
       "3        5.6431  \n",
       "4        3.8462  "
      ]
     },
     "execution_count": 62,
     "metadata": {},
     "output_type": "execute_result"
    }
   ],
   "source": [
    "data_x.head()"
   ]
  },
  {
   "cell_type": "code",
   "execution_count": 63,
   "metadata": {
    "collapsed": true
   },
   "outputs": [],
   "source": [
    "from sklearn.model_selection import train_test_split\n",
    "x_train, x_test, y_train, y_test = train_test_split(data_x,data_y,test_size=0.3)"
   ]
  },
  {
   "cell_type": "markdown",
   "metadata": {},
   "source": [
    "### Scale the Feature Data\n",
    "\n",
    "** Use sklearn preprocessing to create a MinMaxScaler for the feature data. Fit this scaler only to the training data. Then use it to transform X_test and X_train. Then use the scaled X_test and X_train along with pd.Dataframe to re-create two dataframes of scaled data.**"
   ]
  },
  {
   "cell_type": "code",
   "execution_count": 64,
   "metadata": {
    "collapsed": true
   },
   "outputs": [],
   "source": [
    "from sklearn.preprocessing import MinMaxScaler"
   ]
  },
  {
   "cell_type": "code",
   "execution_count": 65,
   "metadata": {},
   "outputs": [],
   "source": [
    "scaler_model = MinMaxScaler()"
   ]
  },
  {
   "cell_type": "code",
   "execution_count": 66,
   "metadata": {},
   "outputs": [
    {
     "data": {
      "text/plain": [
       "MinMaxScaler(copy=True, feature_range=(0, 1))"
      ]
     },
     "execution_count": 66,
     "metadata": {},
     "output_type": "execute_result"
    }
   ],
   "source": [
    "scaler_model.fit(x_train)"
   ]
  },
  {
   "cell_type": "code",
   "execution_count": 67,
   "metadata": {},
   "outputs": [
    {
     "data": {
      "text/html": [
       "<div>\n",
       "<style>\n",
       "    .dataframe thead tr:only-child th {\n",
       "        text-align: right;\n",
       "    }\n",
       "\n",
       "    .dataframe thead th {\n",
       "        text-align: left;\n",
       "    }\n",
       "\n",
       "    .dataframe tbody tr th {\n",
       "        vertical-align: top;\n",
       "    }\n",
       "</style>\n",
       "<table border=\"1\" class=\"dataframe\">\n",
       "  <thead>\n",
       "    <tr style=\"text-align: right;\">\n",
       "      <th></th>\n",
       "      <th>housingMedianAge</th>\n",
       "      <th>totalRooms</th>\n",
       "      <th>totalBedrooms</th>\n",
       "      <th>population</th>\n",
       "      <th>households</th>\n",
       "      <th>medianIncome</th>\n",
       "    </tr>\n",
       "  </thead>\n",
       "  <tbody>\n",
       "    <tr>\n",
       "      <th>13432</th>\n",
       "      <td>34.0</td>\n",
       "      <td>1345.0</td>\n",
       "      <td>265.0</td>\n",
       "      <td>834.0</td>\n",
       "      <td>290.0</td>\n",
       "      <td>3.7011</td>\n",
       "    </tr>\n",
       "    <tr>\n",
       "      <th>14973</th>\n",
       "      <td>10.0</td>\n",
       "      <td>3817.0</td>\n",
       "      <td>943.0</td>\n",
       "      <td>2352.0</td>\n",
       "      <td>875.0</td>\n",
       "      <td>2.1362</td>\n",
       "    </tr>\n",
       "    <tr>\n",
       "      <th>4957</th>\n",
       "      <td>52.0</td>\n",
       "      <td>1793.0</td>\n",
       "      <td>350.0</td>\n",
       "      <td>1303.0</td>\n",
       "      <td>366.0</td>\n",
       "      <td>3.0759</td>\n",
       "    </tr>\n",
       "    <tr>\n",
       "      <th>2421</th>\n",
       "      <td>18.0</td>\n",
       "      <td>1425.0</td>\n",
       "      <td>280.0</td>\n",
       "      <td>753.0</td>\n",
       "      <td>266.0</td>\n",
       "      <td>3.7813</td>\n",
       "    </tr>\n",
       "    <tr>\n",
       "      <th>1056</th>\n",
       "      <td>17.0</td>\n",
       "      <td>5273.0</td>\n",
       "      <td>1177.0</td>\n",
       "      <td>2446.0</td>\n",
       "      <td>1199.0</td>\n",
       "      <td>1.9362</td>\n",
       "    </tr>\n",
       "  </tbody>\n",
       "</table>\n",
       "</div>"
      ],
      "text/plain": [
       "       housingMedianAge  totalRooms  totalBedrooms  population  households  \\\n",
       "13432              34.0      1345.0          265.0       834.0       290.0   \n",
       "14973              10.0      3817.0          943.0      2352.0       875.0   \n",
       "4957               52.0      1793.0          350.0      1303.0       366.0   \n",
       "2421               18.0      1425.0          280.0       753.0       266.0   \n",
       "1056               17.0      5273.0         1177.0      2446.0      1199.0   \n",
       "\n",
       "       medianIncome  \n",
       "13432        3.7011  \n",
       "14973        2.1362  \n",
       "4957         3.0759  \n",
       "2421         3.7813  \n",
       "1056         1.9362  "
      ]
     },
     "execution_count": 67,
     "metadata": {},
     "output_type": "execute_result"
    }
   ],
   "source": [
    "x_train.head()"
   ]
  },
  {
   "cell_type": "code",
   "execution_count": 68,
   "metadata": {},
   "outputs": [],
   "source": [
    "x_train = pd.DataFrame(data=scaler_model.transform(x_train),columns = x_train.columns,index=x_train.index)\n",
    "x_test = pd.DataFrame(data=scaler_model.transform(x_test),columns = x_test.columns,index=x_test.index)"
   ]
  },
  {
   "cell_type": "code",
   "execution_count": 70,
   "metadata": {},
   "outputs": [
    {
     "data": {
      "text/html": [
       "<div>\n",
       "<style>\n",
       "    .dataframe thead tr:only-child th {\n",
       "        text-align: right;\n",
       "    }\n",
       "\n",
       "    .dataframe thead th {\n",
       "        text-align: left;\n",
       "    }\n",
       "\n",
       "    .dataframe tbody tr th {\n",
       "        vertical-align: top;\n",
       "    }\n",
       "</style>\n",
       "<table border=\"1\" class=\"dataframe\">\n",
       "  <thead>\n",
       "    <tr style=\"text-align: right;\">\n",
       "      <th></th>\n",
       "      <th>housingMedianAge</th>\n",
       "      <th>totalRooms</th>\n",
       "      <th>totalBedrooms</th>\n",
       "      <th>population</th>\n",
       "      <th>households</th>\n",
       "      <th>medianIncome</th>\n",
       "    </tr>\n",
       "  </thead>\n",
       "  <tbody>\n",
       "    <tr>\n",
       "      <th>13432</th>\n",
       "      <td>0.647059</td>\n",
       "      <td>0.034157</td>\n",
       "      <td>0.040819</td>\n",
       "      <td>0.023291</td>\n",
       "      <td>0.047368</td>\n",
       "      <td>0.220769</td>\n",
       "    </tr>\n",
       "    <tr>\n",
       "      <th>14973</th>\n",
       "      <td>0.176471</td>\n",
       "      <td>0.097029</td>\n",
       "      <td>0.146050</td>\n",
       "      <td>0.065837</td>\n",
       "      <td>0.143586</td>\n",
       "      <td>0.112847</td>\n",
       "    </tr>\n",
       "    <tr>\n",
       "      <th>4957</th>\n",
       "      <td>1.000000</td>\n",
       "      <td>0.045552</td>\n",
       "      <td>0.054012</td>\n",
       "      <td>0.036436</td>\n",
       "      <td>0.059868</td>\n",
       "      <td>0.177653</td>\n",
       "    </tr>\n",
       "    <tr>\n",
       "      <th>2421</th>\n",
       "      <td>0.333333</td>\n",
       "      <td>0.036192</td>\n",
       "      <td>0.043148</td>\n",
       "      <td>0.021021</td>\n",
       "      <td>0.043421</td>\n",
       "      <td>0.226300</td>\n",
       "    </tr>\n",
       "    <tr>\n",
       "      <th>1056</th>\n",
       "      <td>0.313725</td>\n",
       "      <td>0.134061</td>\n",
       "      <td>0.182368</td>\n",
       "      <td>0.068472</td>\n",
       "      <td>0.196875</td>\n",
       "      <td>0.099054</td>\n",
       "    </tr>\n",
       "  </tbody>\n",
       "</table>\n",
       "</div>"
      ],
      "text/plain": [
       "       housingMedianAge  totalRooms  totalBedrooms  population  households  \\\n",
       "13432          0.647059    0.034157       0.040819    0.023291    0.047368   \n",
       "14973          0.176471    0.097029       0.146050    0.065837    0.143586   \n",
       "4957           1.000000    0.045552       0.054012    0.036436    0.059868   \n",
       "2421           0.333333    0.036192       0.043148    0.021021    0.043421   \n",
       "1056           0.313725    0.134061       0.182368    0.068472    0.196875   \n",
       "\n",
       "       medianIncome  \n",
       "13432      0.220769  \n",
       "14973      0.112847  \n",
       "4957       0.177653  \n",
       "2421       0.226300  \n",
       "1056       0.099054  "
      ]
     },
     "execution_count": 70,
     "metadata": {},
     "output_type": "execute_result"
    }
   ],
   "source": [
    "x_train.head()"
   ]
  },
  {
   "cell_type": "markdown",
   "metadata": {},
   "source": [
    "### Create Feature Columns\n",
    "\n",
    "** Create the necessary tf.feature_column objects for the estimator. They should all be trated as continuous numeric_columns. **"
   ]
  },
  {
   "cell_type": "code",
   "execution_count": 72,
   "metadata": {},
   "outputs": [],
   "source": [
    "import tensorflow as tf"
   ]
  },
  {
   "cell_type": "code",
   "execution_count": 73,
   "metadata": {
    "collapsed": true
   },
   "outputs": [],
   "source": [
    "houseage = tf.feature_column.numeric_column('housingMedianAge')\n",
    "rooms = tf.feature_column.numeric_column('totalRooms')\n",
    "bedrooms = tf.feature_column.numeric_column('totalBedrooms')\n",
    "population = tf.feature_column.numeric_column('population')\n",
    "households = tf.feature_column.numeric_column('households')\n",
    "income = tf.feature_column.numeric_column('medianIncome')\n",
    "\n",
    "feat_cols = [houseage, rooms, bedrooms, population,households, income]"
   ]
  },
  {
   "cell_type": "code",
   "execution_count": 80,
   "metadata": {
    "collapsed": true
   },
   "outputs": [],
   "source": [
    "input_func = tf.estimator.inputs.pandas_input_fn(x=x_train,y=y_train,batch_size=10,num_epochs=1000,shuffle=True)"
   ]
  },
  {
   "cell_type": "markdown",
   "metadata": {},
   "source": [
    "** Create the estimator model. Use a DNNRegressor. Play around with the hidden units! **"
   ]
  },
  {
   "cell_type": "code",
   "execution_count": 86,
   "metadata": {},
   "outputs": [
    {
     "name": "stdout",
     "output_type": "stream",
     "text": [
      "INFO:tensorflow:Using default config.\n",
      "WARNING:tensorflow:Using temporary folder as model directory: C:\\Users\\hosni\\AppData\\Local\\Temp\\tmpydvw_kvc\n",
      "INFO:tensorflow:Using config: {'_model_dir': 'C:\\\\Users\\\\hosni\\\\AppData\\\\Local\\\\Temp\\\\tmpydvw_kvc', '_tf_random_seed': None, '_save_summary_steps': 100, '_save_checkpoints_steps': None, '_save_checkpoints_secs': 600, '_session_config': None, '_keep_checkpoint_max': 5, '_keep_checkpoint_every_n_hours': 10000, '_log_step_count_steps': 100, '_train_distribute': None, '_service': None, '_cluster_spec': <tensorflow.python.training.server_lib.ClusterSpec object at 0x000002B7B042EBE0>, '_task_type': 'worker', '_task_id': 0, '_global_id_in_cluster': 0, '_master': '', '_evaluation_master': '', '_is_chief': True, '_num_ps_replicas': 0, '_num_worker_replicas': 1}\n"
     ]
    }
   ],
   "source": [
    "dnn_model = tf.estimator.DNNRegressor(hidden_units=[10,20,20,20,20,10],feature_columns=feat_cols)"
   ]
  },
  {
   "cell_type": "markdown",
   "metadata": {},
   "source": [
    "##### ** Train the model for ~1,000 steps. (Later come back to this and train it for more and check for improvement) **"
   ]
  },
  {
   "cell_type": "code",
   "execution_count": 88,
   "metadata": {},
   "outputs": [
    {
     "name": "stdout",
     "output_type": "stream",
     "text": [
      "INFO:tensorflow:Calling model_fn.\n",
      "INFO:tensorflow:Done calling model_fn.\n",
      "INFO:tensorflow:Create CheckpointSaverHook.\n",
      "INFO:tensorflow:Graph was finalized.\n",
      "INFO:tensorflow:Restoring parameters from C:\\Users\\hosni\\AppData\\Local\\Temp\\tmpydvw_kvc\\model.ckpt-1000\n",
      "INFO:tensorflow:Running local_init_op.\n",
      "INFO:tensorflow:Done running local_init_op.\n",
      "INFO:tensorflow:Saving checkpoints for 1001 into C:\\Users\\hosni\\AppData\\Local\\Temp\\tmpydvw_kvc\\model.ckpt.\n",
      "INFO:tensorflow:loss = 57031610000.0, step = 1001\n",
      "INFO:tensorflow:global_step/sec: 468.782\n",
      "INFO:tensorflow:loss = 24104750000.0, step = 1101 (0.216 sec)\n",
      "INFO:tensorflow:global_step/sec: 726.575\n",
      "INFO:tensorflow:loss = 142168490000.0, step = 1201 (0.138 sec)\n",
      "INFO:tensorflow:global_step/sec: 716.198\n",
      "INFO:tensorflow:loss = 47543190000.0, step = 1301 (0.140 sec)\n",
      "INFO:tensorflow:global_step/sec: 682.09\n",
      "INFO:tensorflow:loss = 20707602000.0, step = 1401 (0.147 sec)\n",
      "INFO:tensorflow:global_step/sec: 659.655\n",
      "INFO:tensorflow:loss = 76270340000.0, step = 1501 (0.150 sec)\n",
      "INFO:tensorflow:global_step/sec: 668.451\n",
      "INFO:tensorflow:loss = 68097716000.0, step = 1601 (0.149 sec)\n",
      "INFO:tensorflow:global_step/sec: 731.879\n",
      "INFO:tensorflow:loss = 96118194000.0, step = 1701 (0.139 sec)\n",
      "INFO:tensorflow:global_step/sec: 716.198\n",
      "INFO:tensorflow:loss = 54483395000.0, step = 1801 (0.140 sec)\n",
      "INFO:tensorflow:global_step/sec: 701.169\n",
      "INFO:tensorflow:loss = 43258560000.0, step = 1901 (0.145 sec)\n",
      "INFO:tensorflow:global_step/sec: 737.26\n",
      "INFO:tensorflow:loss = 74345120000.0, step = 2001 (0.135 sec)\n",
      "INFO:tensorflow:global_step/sec: 672.938\n",
      "INFO:tensorflow:loss = 52914480000.0, step = 2101 (0.148 sec)\n",
      "INFO:tensorflow:global_step/sec: 701.167\n",
      "INFO:tensorflow:loss = 38852317000.0, step = 2201 (0.145 sec)\n",
      "INFO:tensorflow:global_step/sec: 691.504\n",
      "INFO:tensorflow:loss = 102224900000.0, step = 2301 (0.144 sec)\n",
      "INFO:tensorflow:global_step/sec: 726.577\n",
      "INFO:tensorflow:loss = 49237600000.0, step = 2401 (0.138 sec)\n",
      "INFO:tensorflow:global_step/sec: 706.108\n",
      "INFO:tensorflow:loss = 52604040000.0, step = 2501 (0.143 sec)\n",
      "INFO:tensorflow:global_step/sec: 716.198\n",
      "INFO:tensorflow:loss = 68652960000.0, step = 2601 (0.139 sec)\n",
      "INFO:tensorflow:global_step/sec: 642.74\n",
      "INFO:tensorflow:loss = 29902348000.0, step = 2701 (0.153 sec)\n",
      "INFO:tensorflow:global_step/sec: 721.349\n",
      "INFO:tensorflow:loss = 57015607000.0, step = 2801 (0.142 sec)\n",
      "INFO:tensorflow:global_step/sec: 682.09\n",
      "INFO:tensorflow:loss = 33711470000.0, step = 2901 (0.146 sec)\n",
      "INFO:tensorflow:global_step/sec: 686.764\n",
      "INFO:tensorflow:loss = 33703300000.0, step = 3001 (0.146 sec)\n",
      "INFO:tensorflow:global_step/sec: 726.578\n",
      "INFO:tensorflow:loss = 102652600000.0, step = 3101 (0.140 sec)\n",
      "INFO:tensorflow:global_step/sec: 696.299\n",
      "INFO:tensorflow:loss = 76876464000.0, step = 3201 (0.144 sec)\n",
      "INFO:tensorflow:global_step/sec: 659.657\n",
      "INFO:tensorflow:loss = 65121790000.0, step = 3301 (0.149 sec)\n",
      "INFO:tensorflow:global_step/sec: 742.894\n",
      "INFO:tensorflow:loss = 85763695000.0, step = 3401 (0.137 sec)\n",
      "INFO:tensorflow:global_step/sec: 646.8\n",
      "INFO:tensorflow:loss = 26568313000.0, step = 3501 (0.152 sec)\n",
      "INFO:tensorflow:global_step/sec: 748.384\n",
      "INFO:tensorflow:loss = 43014517000.0, step = 3601 (0.138 sec)\n",
      "INFO:tensorflow:global_step/sec: 626.556\n",
      "INFO:tensorflow:loss = 83947670000.0, step = 3701 (0.158 sec)\n",
      "INFO:tensorflow:global_step/sec: 686.771\n",
      "INFO:tensorflow:loss = 36380870000.0, step = 3801 (0.146 sec)\n",
      "INFO:tensorflow:global_step/sec: 706.103\n",
      "INFO:tensorflow:loss = 30886658000.0, step = 3901 (0.140 sec)\n",
      "INFO:tensorflow:global_step/sec: 682.063\n",
      "INFO:tensorflow:loss = 19405450000.0, step = 4001 (0.148 sec)\n",
      "INFO:tensorflow:global_step/sec: 742.916\n",
      "INFO:tensorflow:loss = 27764842000.0, step = 4101 (0.138 sec)\n",
      "INFO:tensorflow:global_step/sec: 682.258\n",
      "INFO:tensorflow:loss = 72609960000.0, step = 4201 (0.144 sec)\n",
      "INFO:tensorflow:global_step/sec: 742.719\n",
      "INFO:tensorflow:loss = 47133184000.0, step = 4301 (0.138 sec)\n",
      "INFO:tensorflow:global_step/sec: 664.034\n",
      "INFO:tensorflow:loss = 34854978000.0, step = 4401 (0.147 sec)\n",
      "INFO:tensorflow:global_step/sec: 721.34\n",
      "INFO:tensorflow:loss = 153210650000.0, step = 4501 (0.141 sec)\n",
      "INFO:tensorflow:global_step/sec: 638.651\n",
      "INFO:tensorflow:loss = 84788020000.0, step = 4601 (0.155 sec)\n",
      "INFO:tensorflow:global_step/sec: 651.087\n",
      "INFO:tensorflow:loss = 20861534000.0, step = 4701 (0.156 sec)\n",
      "INFO:tensorflow:global_step/sec: 691.495\n",
      "INFO:tensorflow:loss = 39894970000.0, step = 4801 (0.144 sec)\n",
      "INFO:tensorflow:global_step/sec: 721.189\n",
      "INFO:tensorflow:loss = 32750486000.0, step = 4901 (0.140 sec)\n",
      "INFO:tensorflow:global_step/sec: 711.279\n",
      "INFO:tensorflow:loss = 48410436000.0, step = 5001 (0.141 sec)\n",
      "INFO:tensorflow:global_step/sec: 655.247\n",
      "INFO:tensorflow:loss = 39106187000.0, step = 5101 (0.154 sec)\n",
      "INFO:tensorflow:global_step/sec: 511.62\n",
      "INFO:tensorflow:loss = 36218618000.0, step = 5201 (0.194 sec)\n",
      "INFO:tensorflow:global_step/sec: 579.495\n",
      "INFO:tensorflow:loss = 73992086000.0, step = 5301 (0.172 sec)\n",
      "INFO:tensorflow:global_step/sec: 664.138\n",
      "INFO:tensorflow:loss = 70410715000.0, step = 5401 (0.152 sec)\n",
      "INFO:tensorflow:global_step/sec: 533.324\n",
      "INFO:tensorflow:loss = 35628835000.0, step = 5501 (0.187 sec)\n",
      "INFO:tensorflow:global_step/sec: 618.946\n",
      "INFO:tensorflow:loss = 107695630000.0, step = 5601 (0.164 sec)\n",
      "INFO:tensorflow:global_step/sec: 686.748\n",
      "INFO:tensorflow:loss = 24504758000.0, step = 5701 (0.147 sec)\n",
      "INFO:tensorflow:global_step/sec: 553.972\n",
      "INFO:tensorflow:loss = 68234420000.0, step = 5801 (0.177 sec)\n",
      "INFO:tensorflow:global_step/sec: 572.96\n",
      "INFO:tensorflow:loss = 65819320000.0, step = 5901 (0.176 sec)\n",
      "INFO:tensorflow:global_step/sec: 646.887\n",
      "INFO:tensorflow:loss = 15263730000.0, step = 6001 (0.155 sec)\n",
      "INFO:tensorflow:global_step/sec: 737.259\n",
      "INFO:tensorflow:loss = 117385085000.0, step = 6101 (0.138 sec)\n",
      "INFO:tensorflow:global_step/sec: 716.199\n",
      "INFO:tensorflow:loss = 55588827000.0, step = 6201 (0.141 sec)\n",
      "INFO:tensorflow:global_step/sec: 589.767\n",
      "INFO:tensorflow:loss = 35712100000.0, step = 6301 (0.170 sec)\n",
      "INFO:tensorflow:global_step/sec: 519.545\n",
      "INFO:tensorflow:loss = 18895940000.0, step = 6401 (0.191 sec)\n",
      "INFO:tensorflow:global_step/sec: 626.676\n",
      "INFO:tensorflow:loss = 68471370000.0, step = 6501 (0.159 sec)\n",
      "INFO:tensorflow:global_step/sec: 677.369\n",
      "INFO:tensorflow:loss = 39022020000.0, step = 6601 (0.149 sec)\n",
      "INFO:tensorflow:global_step/sec: 622.778\n",
      "INFO:tensorflow:loss = 80670340000.0, step = 6701 (0.160 sec)\n",
      "INFO:tensorflow:global_step/sec: 659.773\n",
      "INFO:tensorflow:loss = 28036438000.0, step = 6801 (0.153 sec)\n",
      "INFO:tensorflow:global_step/sec: 622.777\n",
      "INFO:tensorflow:loss = 24887706000.0, step = 6901 (0.160 sec)\n",
      "INFO:tensorflow:global_step/sec: 576.252\n",
      "INFO:tensorflow:loss = 42902348000.0, step = 7001 (0.175 sec)\n",
      "INFO:tensorflow:global_step/sec: 691.501\n",
      "INFO:tensorflow:loss = 95498050000.0, step = 7101 (0.146 sec)\n",
      "INFO:tensorflow:global_step/sec: 691.488\n",
      "INFO:tensorflow:loss = 150320300000.0, step = 7201 (0.145 sec)\n",
      "INFO:tensorflow:global_step/sec: 726.591\n",
      "INFO:tensorflow:loss = 41821192000.0, step = 7301 (0.138 sec)\n",
      "INFO:tensorflow:global_step/sec: 664.024\n",
      "INFO:tensorflow:loss = 27049212000.0, step = 7401 (0.149 sec)\n",
      "INFO:tensorflow:global_step/sec: 544.929\n",
      "INFO:tensorflow:loss = 95023250000.0, step = 7501 (0.183 sec)\n",
      "INFO:tensorflow:global_step/sec: 604.021\n",
      "INFO:tensorflow:loss = 26216420000.0, step = 7601 (0.171 sec)\n",
      "INFO:tensorflow:global_step/sec: 622.781\n",
      "INFO:tensorflow:loss = 26503602000.0, step = 7701 (0.160 sec)\n",
      "INFO:tensorflow:global_step/sec: 682.094\n",
      "INFO:tensorflow:loss = 100139160000.0, step = 7801 (0.144 sec)\n",
      "INFO:tensorflow:global_step/sec: 569.697\n",
      "INFO:tensorflow:loss = 13836587000.0, step = 7901 (0.177 sec)\n",
      "INFO:tensorflow:global_step/sec: 576.255\n",
      "INFO:tensorflow:loss = 32544913000.0, step = 8001 (0.174 sec)\n",
      "INFO:tensorflow:global_step/sec: 634.604\n",
      "INFO:tensorflow:loss = 59748850000.0, step = 8101 (0.158 sec)\n",
      "INFO:tensorflow:global_step/sec: 721.348\n",
      "INFO:tensorflow:loss = 63290620000.0, step = 8201 (0.140 sec)\n",
      "INFO:tensorflow:global_step/sec: 675.2\n",
      "INFO:tensorflow:loss = 19264784000.0, step = 8301 (0.147 sec)\n",
      "INFO:tensorflow:global_step/sec: 579.59\n",
      "INFO:tensorflow:loss = 98246960000.0, step = 8401 (0.176 sec)\n",
      "INFO:tensorflow:global_step/sec: 547.912\n",
      "INFO:tensorflow:loss = 32781980000.0, step = 8501 (0.180 sec)\n"
     ]
    },
    {
     "name": "stdout",
     "output_type": "stream",
     "text": [
      "INFO:tensorflow:global_step/sec: 618.829\n",
      "INFO:tensorflow:loss = 28986405000.0, step = 8601 (0.161 sec)\n",
      "INFO:tensorflow:global_step/sec: 655.336\n",
      "INFO:tensorflow:loss = 39372760000.0, step = 8701 (0.153 sec)\n",
      "INFO:tensorflow:global_step/sec: 563.383\n",
      "INFO:tensorflow:loss = 45387940000.0, step = 8801 (0.181 sec)\n",
      "INFO:tensorflow:global_step/sec: 527.727\n",
      "INFO:tensorflow:loss = 9039558000.0, step = 8901 (0.187 sec)\n",
      "INFO:tensorflow:global_step/sec: 672.82\n",
      "INFO:tensorflow:loss = 63615570000.0, step = 9001 (0.151 sec)\n",
      "INFO:tensorflow:global_step/sec: 706.105\n",
      "INFO:tensorflow:loss = 24305367000.0, step = 9101 (0.140 sec)\n",
      "INFO:tensorflow:global_step/sec: 721.348\n",
      "INFO:tensorflow:loss = 172389500000.0, step = 9201 (0.142 sec)\n",
      "INFO:tensorflow:global_step/sec: 691.634\n",
      "INFO:tensorflow:loss = 81212430000.0, step = 9301 (0.145 sec)\n",
      "INFO:tensorflow:global_step/sec: 742.725\n",
      "INFO:tensorflow:loss = 216382360000.0, step = 9401 (0.135 sec)\n",
      "INFO:tensorflow:global_step/sec: 682.093\n",
      "INFO:tensorflow:loss = 68867375000.0, step = 9501 (0.147 sec)\n",
      "INFO:tensorflow:global_step/sec: 716.2\n",
      "INFO:tensorflow:loss = 51915993000.0, step = 9601 (0.140 sec)\n",
      "INFO:tensorflow:global_step/sec: 706.101\n",
      "INFO:tensorflow:loss = 61176005000.0, step = 9701 (0.140 sec)\n",
      "INFO:tensorflow:global_step/sec: 742.727\n",
      "INFO:tensorflow:loss = 60529730000.0, step = 9801 (0.137 sec)\n",
      "INFO:tensorflow:global_step/sec: 677.476\n",
      "INFO:tensorflow:loss = 25217670000.0, step = 9901 (0.145 sec)\n",
      "INFO:tensorflow:global_step/sec: 731.889\n",
      "INFO:tensorflow:loss = 45711560000.0, step = 10001 (0.139 sec)\n",
      "INFO:tensorflow:global_step/sec: 701.167\n",
      "INFO:tensorflow:loss = 83886146000.0, step = 10101 (0.142 sec)\n",
      "INFO:tensorflow:global_step/sec: 726.577\n",
      "INFO:tensorflow:loss = 81157640000.0, step = 10201 (0.138 sec)\n",
      "INFO:tensorflow:global_step/sec: 701.169\n",
      "INFO:tensorflow:loss = 24253667000.0, step = 10301 (0.144 sec)\n",
      "INFO:tensorflow:global_step/sec: 737.258\n",
      "INFO:tensorflow:loss = 73190840000.0, step = 10401 (0.137 sec)\n",
      "INFO:tensorflow:global_step/sec: 668.458\n",
      "INFO:tensorflow:loss = 71668600000.0, step = 10501 (0.149 sec)\n",
      "INFO:tensorflow:global_step/sec: 721.339\n",
      "INFO:tensorflow:loss = 73989550000.0, step = 10601 (0.138 sec)\n",
      "INFO:tensorflow:global_step/sec: 721.216\n",
      "INFO:tensorflow:loss = 72795000000.0, step = 10701 (0.139 sec)\n",
      "INFO:tensorflow:global_step/sec: 721.292\n",
      "INFO:tensorflow:loss = 167048870000.0, step = 10801 (0.141 sec)\n",
      "INFO:tensorflow:global_step/sec: 716.388\n",
      "INFO:tensorflow:loss = 34486370000.0, step = 10901 (0.140 sec)\n",
      "INFO:tensorflow:Saving checkpoints for 11000 into C:\\Users\\hosni\\AppData\\Local\\Temp\\tmpydvw_kvc\\model.ckpt.\n",
      "INFO:tensorflow:Loss for final step: 28632875000.0.\n"
     ]
    },
    {
     "data": {
      "text/plain": [
       "<tensorflow.python.estimator.canned.dnn.DNNRegressor at 0x2b7ad21e518>"
      ]
     },
     "execution_count": 88,
     "metadata": {},
     "output_type": "execute_result"
    }
   ],
   "source": [
    "dnn_model.train(input_fn=input_func,steps=10000)"
   ]
  },
  {
   "cell_type": "markdown",
   "metadata": {},
   "source": [
    "** Create a prediction input function and then use the .predict method off your estimator model to create a list or predictions on your test data. **"
   ]
  },
  {
   "cell_type": "code",
   "execution_count": 153,
   "metadata": {
    "collapsed": true
   },
   "outputs": [],
   "source": []
  },
  {
   "cell_type": "code",
   "execution_count": 154,
   "metadata": {
    "collapsed": true
   },
   "outputs": [],
   "source": []
  },
  {
   "cell_type": "code",
   "execution_count": 155,
   "metadata": {},
   "outputs": [
    {
     "name": "stdout",
     "output_type": "stream",
     "text": [
      "INFO:tensorflow:Restoring parameters from C:\\Users\\Marcial\\AppData\\Local\\Temp\\tmp244d0d44\\model.ckpt-25000\n"
     ]
    }
   ],
   "source": []
  },
  {
   "cell_type": "markdown",
   "metadata": {},
   "source": [
    "** Calculate the RMSE. You should be able to get around 100,000 RMSE (remember that this is in the same units as the label.) Do this manually or use [sklearn.metrics](http://scikit-learn.org/stable/modules/generated/sklearn.metrics.mean_squared_error.html) **"
   ]
  },
  {
   "cell_type": "code",
   "execution_count": 156,
   "metadata": {
    "collapsed": true
   },
   "outputs": [],
   "source": []
  },
  {
   "cell_type": "code",
   "execution_count": 157,
   "metadata": {
    "collapsed": true
   },
   "outputs": [],
   "source": []
  },
  {
   "cell_type": "code",
   "execution_count": 158,
   "metadata": {},
   "outputs": [
    {
     "data": {
      "text/plain": [
       "97921.93181985477"
      ]
     },
     "execution_count": 158,
     "metadata": {},
     "output_type": "execute_result"
    }
   ],
   "source": []
  },
  {
   "cell_type": "markdown",
   "metadata": {},
   "source": [
    "# Great Job!"
   ]
  }
 ],
 "metadata": {
  "kernelspec": {
   "display_name": "Python 3",
   "language": "python",
   "name": "python3"
  },
  "language_info": {
   "codemirror_mode": {
    "name": "ipython",
    "version": 3
   },
   "file_extension": ".py",
   "mimetype": "text/x-python",
   "name": "python",
   "nbconvert_exporter": "python",
   "pygments_lexer": "ipython3",
   "version": "3.6.3"
  }
 },
 "nbformat": 4,
 "nbformat_minor": 2
}
